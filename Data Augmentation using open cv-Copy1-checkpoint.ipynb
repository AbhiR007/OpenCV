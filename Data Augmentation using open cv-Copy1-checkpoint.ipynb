{
 "cells": [
  {
   "cell_type": "code",
   "execution_count": 1,
   "metadata": {},
   "outputs": [],
   "source": [
    "import cv2\n",
    "import numpy as np\n",
    "from PIL import Image\n",
    "import os\n",
    "import glob"
   ]
  },
  {
   "cell_type": "code",
   "execution_count": 2,
   "metadata": {},
   "outputs": [
    {
     "data": {
      "text/plain": [
       "'C:\\\\Users\\\\Mayank.Yogi'"
      ]
     },
     "execution_count": 2,
     "metadata": {},
     "output_type": "execute_result"
    }
   ],
   "source": [
    "os.getcwd()"
   ]
  },
  {
   "cell_type": "code",
   "execution_count": 3,
   "metadata": {},
   "outputs": [
    {
     "data": {
      "text/plain": [
       "['.3T',\n",
       " '.anaconda',\n",
       " '.cache',\n",
       " '.conda',\n",
       " '.condarc',\n",
       " '.config',\n",
       " '.dbshell',\n",
       " '.dotnet',\n",
       " '.gitconfig',\n",
       " '.idlerc',\n",
       " '.ipynb_checkpoints',\n",
       " '.ipython',\n",
       " '.jupyter',\n",
       " '.keras',\n",
       " '.matplotlib',\n",
       " '.mongorc.js',\n",
       " '.node-gyp',\n",
       " '.node_repl_history',\n",
       " '.npm-pwsh',\n",
       " '.npmrc',\n",
       " '.nuget',\n",
       " '.pylint.d',\n",
       " '.rush',\n",
       " '.spyder-py3',\n",
       " '.swt',\n",
       " '.viminfo',\n",
       " '.vscode',\n",
       " '.windows-build-tools',\n",
       " '.yarnrc',\n",
       " '01-Numbers.ipynb',\n",
       " '3D Objects',\n",
       " 'Abalone Linear Progression Example-Copy2.ipynb',\n",
       " 'Abalone.obj',\n",
       " 'ANN BankCustomer.ipynb',\n",
       " 'AppData',\n",
       " 'Application Data',\n",
       " 'array function.ipynb',\n",
       " 'Avocado Code.ipynb',\n",
       " 'AxisBankLSTM.ipynb',\n",
       " 'AxisBankLSTM.png',\n",
       " 'Bank Practice Project.ipynb',\n",
       " 'BankPractice.obj',\n",
       " 'Baseball.obj',\n",
       " 'Basic Mean mode operation.ipynb',\n",
       " 'BentleyDownloads',\n",
       " 'Bikes.obj',\n",
       " 'Boston  house data Linear Regression Example.ipynb',\n",
       " 'car-prediction using ML.ipynb',\n",
       " 'Concrete_Data.csv',\n",
       " 'Contacts',\n",
       " 'Cookies',\n",
       " 'CrossValidationScore and CVPredict on irisdata.ipynb',\n",
       " 'crud operation python.ipynb',\n",
       " 'Data Augmentation using open cv-Copy1.ipynb',\n",
       " 'Data Augmentation using open cv.ipynb',\n",
       " 'demofile.txt',\n",
       " 'Demo_1(CNN).ipynb',\n",
       " 'Desktop',\n",
       " 'df operation on service dataset.ipynb',\n",
       " 'Diabetes using LG.ipynb',\n",
       " 'Documents',\n",
       " 'Downloads',\n",
       " 'dtcbfsave.pkl',\n",
       " 'EDA (important) session steps to data analysis.ipynb',\n",
       " 'EDA with Titanic Dataset.ipynb',\n",
       " 'Fake News using LSTM.ipynb',\n",
       " 'Favorites',\n",
       " 'File Input output.ipynb',\n",
       " 'finaltrainforM1i.csv',\n",
       " 'finaltrainforM3.csv',\n",
       " 'FlipRobo Assignment 4.ipynb',\n",
       " 'flower',\n",
       " 'Forest Fire Practice.ipynb',\n",
       " 'grade.csv',\n",
       " 'Hackathon.ipynb',\n",
       " 'HackathonBookPrice.ipynb',\n",
       " 'HousePrice having EDA and LR.ipynb',\n",
       " 'iloc  dataframe  func.ipynb',\n",
       " 'IntelGraphicsProfiles',\n",
       " 'knncancer.obj',\n",
       " 'kn_mushroom.pkl',\n",
       " 'Links',\n",
       " 'LoadTest2010.mdf',\n",
       " 'LoadTest2010_log.ldf',\n",
       " 'Local Settings',\n",
       " 'LogisticRegression , DecisionTree, SVM , KNN , NaiveByes  Breast Cancer Example.ipynb',\n",
       " 'Malaria Detection using CNN.ipynb',\n",
       " 'malaria_modelVGG19',\n",
       " 'malaria_modelVGG19.h5',\n",
       " 'Methods to Handle Null values.ipynb',\n",
       " 'MicrosoftEdgeBackups',\n",
       " 'ML Linear Regression Example with function.ipynb',\n",
       " 'ML Linear Regression Example.ipynb',\n",
       " 'model.png',\n",
       " 'MongoDB .ipynb',\n",
       " 'MongoDB crud.ipynb',\n",
       " 'Mushroom Practice Project-Copy1.ipynb',\n",
       " 'Music',\n",
       " 'My Documents',\n",
       " 'myfile.txt',\n",
       " 'NetHood',\n",
       " 'NLP Bag OF Words &TF-IDF.ipynb',\n",
       " 'NTUSER.DAT',\n",
       " 'ntuser.dat.LOG1',\n",
       " 'ntuser.dat.LOG2',\n",
       " 'NTUSER.DAT{d1d2be7d-da28-11e9-ab45-dcfb48b8d64c}.TM.blf',\n",
       " 'NTUSER.DAT{d1d2be7d-da28-11e9-ab45-dcfb48b8d64c}.TMContainer00000000000000000001.regtrans-ms',\n",
       " 'NTUSER.DAT{d1d2be7d-da28-11e9-ab45-dcfb48b8d64c}.TMContainer00000000000000000002.regtrans-ms',\n",
       " 'ntuser.ini',\n",
       " 'ntuser.pol',\n",
       " 'OneDrive',\n",
       " 'operation of data Frame on empl.ipynb',\n",
       " 'output',\n",
       " 'Pictures',\n",
       " 'pivot function.ipynb',\n",
       " 'Practice EDA on Titanic data set.ipynb',\n",
       " 'prediction_boston.csv',\n",
       " 'PrintHood',\n",
       " 'Project 1.ipynb',\n",
       " 'Project 11.1.obj',\n",
       " 'Project 11.obj',\n",
       " 'Project 12.obj',\n",
       " 'Project 2.ipynb',\n",
       " 'Project 3.ipynb',\n",
       " 'Project 4.ipynb',\n",
       " 'Project 5.ipynb',\n",
       " 'Project 6.ipynb',\n",
       " 'Project 7.ipynb',\n",
       " 'Project 7.obj',\n",
       " 'Project 8.ipynb',\n",
       " 'Project 8.obj',\n",
       " 'Project 9.ipynb',\n",
       " 'Project _10.ipynb',\n",
       " 'Project _11.ipynb',\n",
       " 'Project_1(pikachu and iron man).ipynb',\n",
       " 'Project_10.obj',\n",
       " 'Project_12.ipynb',\n",
       " 'Project_13.ipynb',\n",
       " 'Project_13.obj',\n",
       " 'Project_14.ipynb',\n",
       " 'Project_14.obj',\n",
       " 'Project_15.ipynb',\n",
       " 'Project_15.obj',\n",
       " 'Project_16(1).ipynb',\n",
       " 'Project_16(1).obj',\n",
       " 'Project_16(2).ipynb',\n",
       " 'Project_17.ipynb',\n",
       " 'Project_17.obj',\n",
       " 'Project_17_Copy.ipynb',\n",
       " 'Project_18.ipynb',\n",
       " 'Project_18.obj',\n",
       " 'Project_19 demo.ipynb',\n",
       " 'Project_19.ipynb',\n",
       " 'Project_19.obj',\n",
       " 'Project_2(dog_vs_Cats).ipynb',\n",
       " 'Project_20.ipynb',\n",
       " 'Project_20.obj',\n",
       " 'Project_7.obj',\n",
       " 'Project_8.obj',\n",
       " 'Project_9.obj',\n",
       " 'random_forest_regression_model.pkl',\n",
       " 'Real estate price Linear Regression.ipynb',\n",
       " 'Recent',\n",
       " 'Roaming',\n",
       " 'SalesAdvertising.obj',\n",
       " 'Saved Games',\n",
       " 'SBI.obj',\n",
       " 'SBI.pkl',\n",
       " 'scikit_learn_data',\n",
       " 'SciTE.session',\n",
       " 'seaborn function.ipynb',\n",
       " 'seaborn-data',\n",
       " 'Searches',\n",
       " 'SendTo',\n",
       " 'Sonar dataset.ipynb',\n",
       " 'source',\n",
       " 'Spam Classifier NLP.ipynb',\n",
       " 'Start Menu',\n",
       " 'StockMarketPrice.ipynb',\n",
       " 'StudentSchoolGrades practice project.ipynb',\n",
       " 'Submission.csv',\n",
       " 'Templates',\n",
       " 'Unsupervised Learning (IRIS).ipynb',\n",
       " 'Unsupervised Learning(WINE dataset).ipynb',\n",
       " 'Videos',\n",
       " 'Web Scrapping.ipynb',\n",
       " 'Wine.obj']"
      ]
     },
     "execution_count": 3,
     "metadata": {},
     "output_type": "execute_result"
    }
   ],
   "source": [
    "os.listdir(os.getcwd())"
   ]
  },
  {
   "cell_type": "code",
   "execution_count": 4,
   "metadata": {},
   "outputs": [],
   "source": [
    "os.chdir(\"C:\\\\Users\\\\Mayank.Yogi\\\\Datasets\\\\Flipkart\\\\\")"
   ]
  },
  {
   "cell_type": "code",
   "execution_count": 5,
   "metadata": {},
   "outputs": [
    {
     "data": {
      "text/plain": [
       "'C:\\\\Users\\\\Mayank.Yogi\\\\Desktop\\\\Data Trained\\\\FlipRobo\\\\Datasets\\\\Flipkart'"
      ]
     },
     "execution_count": 5,
     "metadata": {},
     "output_type": "execute_result"
    }
   ],
   "source": [
    "os.getcwd()"
   ]
  },
  {
   "cell_type": "markdown",
   "metadata": {},
   "source": [
    "# Rotation Image"
   ]
  },
  {
   "cell_type": "code",
   "execution_count": 12,
   "metadata": {},
   "outputs": [],
   "source": [
    "inputFolder = \"C:\\\\Users\\\\Mayank.Yogi\\\\Datasets\\\\Flipkart\\\\train\\\\shirt\"\n",
    "folderlen = len(inputFolder)\n",
    "os.mkdir('Rotation')\n",
    "i = 0\n",
    "for img in glob.glob(inputFolder + \"/*.jpeg\"):\n",
    "    image = cv2.imread(img)\n",
    "    height, width = image.shape[:2]\n",
    "    rotation_matrix = cv2.getRotationMatrix2D((width/2,height/2),45,.5)\n",
    "    rotated_image = cv2.warpAffine(image,rotation_matrix,(width,height))\n",
    "    cv2.imwrite(\"C:\\\\Users\\\\Mayank.Yogi\\\\Flipkart\\\\Rotation\" + img[folderlen:], rotated_image)\n",
    "   \n",
    "    \n",
    "cv2.imshow('first' , rotated_image)    \n",
    "cv2.waitKey(0)\n",
    "cv2.destroyAllWindows()"
   ]
  },
  {
   "cell_type": "markdown",
   "metadata": {},
   "source": [
    "# Increase Brightness"
   ]
  },
  {
   "cell_type": "code",
   "execution_count": 13,
   "metadata": {},
   "outputs": [],
   "source": [
    "os.mkdir('IncreaseBrightness')\n",
    "i = 0\n",
    "for img in glob.glob(inputFolder + \"/*.jpeg\"):\n",
    "    image = cv2.imread(img)\n",
    "    bright = np.ones(image.shape , dtype=\"uint8\") * 70\n",
    "    brightincrease = cv2.add(image,bright)\n",
    "    cv2.imwrite(\"C:\\\\Users\\\\Mayank.Yogi\\\\Flipkart\\\\IncreaseBrightness\" + img[folderlen:], brightincrease)\n",
    "cv2.imshow('first' , brightincrease)    \n",
    "cv2.waitKey(0)\n",
    "cv2.destroyAllWindows()"
   ]
  },
  {
   "cell_type": "markdown",
   "metadata": {},
   "source": [
    "# Decrease Brightness"
   ]
  },
  {
   "cell_type": "code",
   "execution_count": 14,
   "metadata": {},
   "outputs": [],
   "source": [
    "os.mkdir('DecreaseBrightness')\n",
    "i = 0\n",
    "for img in glob.glob(inputFolder + \"/*.jpeg\"):\n",
    "    image = cv2.imread(img)\n",
    "    bright = np.ones(image.shape , dtype=\"uint8\") * 70\n",
    "    brightdecrease = cv2.subtract(image,bright)\n",
    "    cv2.imwrite(\"C:\\\\Users\\\\Mayank.Yogi\\\\Flipkart\\\\DecreaseBrightness\" + img[folderlen:], brightdecrease)\n",
    "cv2.imshow('first' , brightdecrease)    \n",
    "cv2.waitKey(0)\n",
    "cv2.destroyAllWindows()    \n",
    "    "
   ]
  },
  {
   "cell_type": "markdown",
   "metadata": {},
   "source": [
    "# Fliping the Images"
   ]
  },
  {
   "cell_type": "code",
   "execution_count": 15,
   "metadata": {},
   "outputs": [],
   "source": [
    "os.mkdir('Flip')\n",
    "i = 0\n",
    "for img in glob.glob(inputFolder + \"/*.jpeg\"):\n",
    "    image = cv2.imread(img)\n",
    "    flip = cv2.flip(image,3)\n",
    "    cv2.imwrite(\"C:\\\\Users\\\\Mayank.Yogi\\\\Flipkart\\\\Flip\" + img[folderlen:], flip)\n",
    "cv2.imshow('first' , flip)    \n",
    "cv2.waitKey(0)\n",
    "cv2.destroyAllWindows()"
   ]
  },
  {
   "cell_type": "markdown",
   "metadata": {},
   "source": [
    "# Sharpening"
   ]
  },
  {
   "cell_type": "code",
   "execution_count": 16,
   "metadata": {},
   "outputs": [],
   "source": [
    "os.mkdir('Sharpening')\n",
    "i = 0\n",
    "for img in glob.glob(inputFolder + \"/*.jpeg\"):\n",
    "    image = cv2.imread(img)\n",
    "    sharpening = np.array([ [-1,-1,-1],\n",
    "                            [-1,10,-1],\n",
    "                            [-1,-1,-1] ])\n",
    "    sharpened = cv2.filter2D(image,-1,sharpening)\n",
    "    cv2.imwrite(\"C:\\\\Users\\\\Mayank.Yogi\\\\Flipkart\\\\Sharpening\" + img[folderlen:], sharpened)\n",
    "cv2.imshow('first' , sharpened)    \n",
    "cv2.waitKey(0)\n",
    "cv2.destroyAllWindows()"
   ]
  }
 ],
 "metadata": {
  "kernelspec": {
   "display_name": "Python 3",
   "language": "python",
   "name": "python3"
  },
  "language_info": {
   "codemirror_mode": {
    "name": "ipython",
    "version": 3
   },
   "file_extension": ".py",
   "mimetype": "text/x-python",
   "name": "python",
   "nbconvert_exporter": "python",
   "pygments_lexer": "ipython3",
   "version": "3.7.7"
  }
 },
 "nbformat": 4,
 "nbformat_minor": 4
}
