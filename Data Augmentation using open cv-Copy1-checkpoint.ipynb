{
 "cells": [
  {
   "cell_type": "code",
   "execution_count": 1,
   "metadata": {},
   "outputs": [],
   "source": [
    "import cv2\n",
    "import numpy as np\n",
    "from PIL import Image\n",
    "import os\n",
    "import glob"
   ]
  },
  {
   "cell_type": "code",
   "execution_count": 2,
   "metadata": {},
   "outputs": [
    {
     "data": {
      "text/plain": [
       "'C:\\\\Users\\\\Mayank.Yogi'"
      ]
     },
     "execution_count": 2,
     "metadata": {},
     "output_type": "execute_result"
    }
   ],
   "source": [
    "os.getcwd()"
   ]
  },
  {
   "cell_type": "code",
   "execution_count": 4,
   "metadata": {},
   "outputs": [],
   "source": [
    "os.chdir(\"C:\\\\Users\\\\Mayank.Yogi\\\\Datasets\\\\Flipkart\\\\\")"
   ]
  },
  {
   "cell_type": "code",
   "execution_count": 5,
   "metadata": {},
   "outputs": [
    {
     "data": {
      "text/plain": [
       "'C:\\\\Users\\\\Mayank.Yogi\\\\Desktop\\\\Data Trained\\\\FlipRobo\\\\Datasets\\\\Flipkart'"
      ]
     },
     "execution_count": 5,
     "metadata": {},
     "output_type": "execute_result"
    }
   ],
   "source": [
    "os.getcwd()"
   ]
  },
  {
   "cell_type": "markdown",
   "metadata": {},
   "source": [
    "# Rotation Image"
   ]
  },
  {
   "cell_type": "code",
   "execution_count": 12,
   "metadata": {},
   "outputs": [],
   "source": [
    "inputFolder = \"C:\\\\Users\\\\Mayank.Yogi\\\\Datasets\\\\Flipkart\\\\train\\\\shirt\"\n",
    "folderlen = len(inputFolder)\n",
    "os.mkdir('Rotation')\n",
    "i = 0\n",
    "for img in glob.glob(inputFolder + \"/*.jpeg\"):\n",
    "    image = cv2.imread(img)\n",
    "    height, width = image.shape[:2]\n",
    "    rotation_matrix = cv2.getRotationMatrix2D((width/2,height/2),45,.5)\n",
    "    rotated_image = cv2.warpAffine(image,rotation_matrix,(width,height))\n",
    "    cv2.imwrite(\"C:\\\\Users\\\\Mayank.Yogi\\\\Flipkart\\\\Rotation\" + img[folderlen:], rotated_image)\n",
    "   \n",
    "    \n",
    "cv2.imshow('first' , rotated_image)    \n",
    "cv2.waitKey(0)\n",
    "cv2.destroyAllWindows()"
   ]
  },
  {
   "cell_type": "markdown",
   "metadata": {},
   "source": [
    "# Increase Brightness"
   ]
  },
  {
   "cell_type": "code",
   "execution_count": 13,
   "metadata": {},
   "outputs": [],
   "source": [
    "os.mkdir('IncreaseBrightness')\n",
    "i = 0\n",
    "for img in glob.glob(inputFolder + \"/*.jpeg\"):\n",
    "    image = cv2.imread(img)\n",
    "    bright = np.ones(image.shape , dtype=\"uint8\") * 70\n",
    "    brightincrease = cv2.add(image,bright)\n",
    "    cv2.imwrite(\"C:\\\\Users\\\\Mayank.Yogi\\\\Flipkart\\\\IncreaseBrightness\" + img[folderlen:], brightincrease)\n",
    "cv2.imshow('first' , brightincrease)    \n",
    "cv2.waitKey(0)\n",
    "cv2.destroyAllWindows()"
   ]
  },
  {
   "cell_type": "markdown",
   "metadata": {},
   "source": [
    "# Decrease Brightness"
   ]
  },
  {
   "cell_type": "code",
   "execution_count": 14,
   "metadata": {},
   "outputs": [],
   "source": [
    "os.mkdir('DecreaseBrightness')\n",
    "i = 0\n",
    "for img in glob.glob(inputFolder + \"/*.jpeg\"):\n",
    "    image = cv2.imread(img)\n",
    "    bright = np.ones(image.shape , dtype=\"uint8\") * 70\n",
    "    brightdecrease = cv2.subtract(image,bright)\n",
    "    cv2.imwrite(\"C:\\\\Users\\\\Mayank.Yogi\\\\Flipkart\\\\DecreaseBrightness\" + img[folderlen:], brightdecrease)\n",
    "cv2.imshow('first' , brightdecrease)    \n",
    "cv2.waitKey(0)\n",
    "cv2.destroyAllWindows()    \n",
    "    "
   ]
  },
  {
   "cell_type": "markdown",
   "metadata": {},
   "source": [
    "# Fliping the Images"
   ]
  },
  {
   "cell_type": "code",
   "execution_count": 15,
   "metadata": {},
   "outputs": [],
   "source": [
    "os.mkdir('Flip')\n",
    "i = 0\n",
    "for img in glob.glob(inputFolder + \"/*.jpeg\"):\n",
    "    image = cv2.imread(img)\n",
    "    flip = cv2.flip(image,3)\n",
    "    cv2.imwrite(\"C:\\\\Users\\\\Mayank.Yogi\\\\Flipkart\\\\Flip\" + img[folderlen:], flip)\n",
    "cv2.imshow('first' , flip)    \n",
    "cv2.waitKey(0)\n",
    "cv2.destroyAllWindows()"
   ]
  },
  {
   "cell_type": "markdown",
   "metadata": {},
   "source": [
    "# Sharpening"
   ]
  },
  {
   "cell_type": "code",
   "execution_count": 16,
   "metadata": {},
   "outputs": [],
   "source": [
    "os.mkdir('Sharpening')\n",
    "i = 0\n",
    "for img in glob.glob(inputFolder + \"/*.jpeg\"):\n",
    "    image = cv2.imread(img)\n",
    "    sharpening = np.array([ [-1,-1,-1],\n",
    "                            [-1,10,-1],\n",
    "                            [-1,-1,-1] ])\n",
    "    sharpened = cv2.filter2D(image,-1,sharpening)\n",
    "    cv2.imwrite(\"C:\\\\Users\\\\Mayank.Yogi\\\\Flipkart\\\\Sharpening\" + img[folderlen:], sharpened)\n",
    "cv2.imshow('first' , sharpened)    \n",
    "cv2.waitKey(0)\n",
    "cv2.destroyAllWindows()"
   ]
  }
 ],
 "metadata": {
  "kernelspec": {
   "display_name": "Python 3",
   "language": "python",
   "name": "python3"
  },
  "language_info": {
   "codemirror_mode": {
    "name": "ipython",
    "version": 3
   },
   "file_extension": ".py",
   "mimetype": "text/x-python",
   "name": "python",
   "nbconvert_exporter": "python",
   "pygments_lexer": "ipython3",
   "version": "3.7.7"
  }
 },
 "nbformat": 4,
 "nbformat_minor": 4
}
