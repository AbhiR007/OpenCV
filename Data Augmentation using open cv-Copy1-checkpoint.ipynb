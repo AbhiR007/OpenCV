{
 "cells": [
  {
   "cell_type": "code",
   "execution_count": 29,
   "metadata": {},
   "outputs": [],
   "source": [
    "import cv2\n",
    "import numpy as np\n",
    "from PIL import Image\n",
    "import os\n",
    "import glob"
   ]
  },
  {
   "cell_type": "code",
   "execution_count": 18,
   "metadata": {},
   "outputs": [
    {
     "data": {
      "text/plain": [
       "'C:\\\\Users\\\\Mayank.Yogi'"
      ]
     },
     "execution_count": 18,
     "metadata": {},
     "output_type": "execute_result"
    }
   ],
   "source": [
    "os.getcwd()"
   ]
  },
  {
   "cell_type": "markdown",
   "metadata": {},
   "source": [
    "# Rotation Image"
   ]
  },
  {
   "cell_type": "code",
   "execution_count": 47,
   "metadata": {},
   "outputs": [],
   "source": [
    "inputFolder = \"C:\\\\Users\\\\Mayank.Yogi\\\\Flipkart\\\\train\\\\shirt\"\n",
    "folderlen = len(inputFolder)\n",
    "os.mkdir('Rotation')\n",
    "i = 0\n",
    "for img in glob.glob(inputFolder + \"/*.jpeg\"):\n",
    "    image = cv2.imread(img)\n",
    "    height, width = image.shape[:2]\n",
    "    rotation_matrix = cv2.getRotationMatrix2D((width/2,height/2),30,.5)\n",
    "    rotated_image = cv2.warpAffine(image,rotation_matrix,(width,height))\n",
    "    cv2.imwrite(\"C:\\\\Users\\\\Mayank.Yogi\\\\Flipkart\\\\Rotation\" + img[folderlen:], rotated_image)\n",
    "    cv2.waitKey(0)\n",
    "cv2.destroyAllWindows()"
   ]
  },
  {
   "cell_type": "code",
   "execution_count": 56,
   "metadata": {},
   "outputs": [],
   "source": [
    "cv2.imshow('first' , rotated_image)"
   ]
  },
  {
   "cell_type": "markdown",
   "metadata": {},
   "source": [
    "# Increase Brightness"
   ]
  },
  {
   "cell_type": "code",
   "execution_count": 48,
   "metadata": {},
   "outputs": [],
   "source": [
    "os.mkdir('IncreaseBrightness')\n",
    "i = 0\n",
    "for img in glob.glob(inputFolder + \"/*.jpeg\"):\n",
    "    image = cv2.imread(img)\n",
    "    bright = np.ones(image.shape , dtype=\"uint8\") * 70\n",
    "    brightincrease = cv2.add(image,bright)\n",
    "    cv2.imwrite(\"C:\\\\Users\\\\Mayank.Yogi\\\\lipkart\\\\IncreaseBrightness\" + img[folderlen:], brightincrease)\n",
    "    cv2.waitKey(0)\n",
    "cv2.destroyAllWindows()"
   ]
  },
  {
   "cell_type": "markdown",
   "metadata": {},
   "source": [
    "# Decrease Brightness"
   ]
  },
  {
   "cell_type": "code",
   "execution_count": 49,
   "metadata": {},
   "outputs": [],
   "source": [
    "os.mkdir('DecreaseBrightness')\n",
    "i = 0\n",
    "for img in glob.glob(inputFolder + \"/*.jpeg\"):\n",
    "    image = cv2.imread(img)\n",
    "    bright = np.ones(image.shape , dtype=\"uint8\") * 70\n",
    "    brightdecrease = cv2.subtract(image,bright)\n",
    "    cv2.imwrite(\"C:\\\\Users\\\\Mayank.Yogi\\\\Flipkart\\\\DecreaseBrightness\" + img[folderlen:], brightdecrease)\n",
    "    cv2.waitKey(0)\n",
    "cv2.destroyAllWindows()"
   ]
  },
  {
   "cell_type": "markdown",
   "metadata": {},
   "source": [
    "# Fliping the Images"
   ]
  },
  {
   "cell_type": "code",
   "execution_count": 53,
   "metadata": {},
   "outputs": [],
   "source": [
    "os.mkdir('Flip')\n",
    "i = 0\n",
    "for img in glob.glob(inputFolder + \"/*.jpeg\"):\n",
    "    image = cv2.imread(img)\n",
    "    flip = cv2.flip(image,3)\n",
    "    cv2.imwrite(\"C:\\\\Users\\\\Mayank.Yogi\\\\Flipkart\\\\Flip\" + img[folderlen:], flip)\n",
    "    cv2.waitKey(0)\n",
    "cv2.destroyAllWindows()"
   ]
  },
  {
   "cell_type": "markdown",
   "metadata": {},
   "source": [
    "# Sharpening"
   ]
  },
  {
   "cell_type": "code",
   "execution_count": 52,
   "metadata": {},
   "outputs": [],
   "source": [
    "os.mkdir('Sharpening')\n",
    "i = 0\n",
    "for img in glob.glob(inputFolder + \"/*.jpeg\"):\n",
    "    image = cv2.imread(img)\n",
    "    sharpening = np.array([ [-1,-1,-1],\n",
    "                            [-1,10,-1],\n",
    "                            [-1,-1,-1] ])\n",
    "    sharpened = cv2.filter2D(image,-1,sharpening)\n",
    "    cv2.imwrite(\"C:\\\\Users\\\\Mayank.Yogi\\\\Flipkart\\\\Sharpening\" + img[folderlen:], sharpened)\n",
    "    cv2.waitKey(0)\n",
    "cv2.destroyAllWindows()"
   ]
  }
 ],
 "metadata": {
  "kernelspec": {
   "display_name": "Python 3",
   "language": "python",
   "name": "python3"
  },
  "language_info": {
   "codemirror_mode": {
    "name": "ipython",
    "version": 3
   },
   "file_extension": ".py",
   "mimetype": "text/x-python",
   "name": "python",
   "nbconvert_exporter": "python",
   "pygments_lexer": "ipython3",
   "version": "3.7.7"
  }
 },
 "nbformat": 4,
 "nbformat_minor": 4
}
